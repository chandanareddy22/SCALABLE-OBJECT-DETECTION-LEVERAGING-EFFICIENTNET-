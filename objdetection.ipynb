{
  "cells": [
    {
      "cell_type": "code",
      "execution_count": 5,
      "metadata": {
        "id": "50203s9QCysa"
      },
      "outputs": [],
      "source": [
        "from tensorflow.keras.applications import EfficientNetB7\n",
        "import cv2\n",
        "import numpy as np\n",
        "import matplotlib.pyplot as plt"
      ]
    },
    {
      "cell_type": "code",
      "execution_count": 6,
      "metadata": {
        "id": "Bf_WrrhxC3zl"
      },
      "outputs": [],
      "source": [
        "#from tensorflow.keras.applications import EfficiebtNetB7\n",
        "from tensorflow.keras.applications.imagenet_utils import decode_predictions, preprocess_input\n",
        "from matplotlib.pyplot import imshow\n",
        "from tensorflow.keras.models import load_model\n",
        "# Load the trained model\n",
        "from keras.layers import TFSMLayer"
      ]
    },
    {
      "cell_type": "code",
      "execution_count": 7,
      "metadata": {
        "id": "Z53y7cftC9ah"
      },
      "outputs": [],
      "source": [
        "img_path =r'/content/drive/MyDrive/my_testing images objdetect/elephants.jpeg'"
      ]
    },
    {
      "cell_type": "code",
      "execution_count": null,
      "metadata": {
        "id": "dFAwLxToDBDf"
      },
      "outputs": [],
      "source": [
        "model = EfficientNetB7(weights='imagenet')\n",
        "img = cv2.imread(img_path)\n",
        "if img is None:\n",
        "    print(f\"Error: Unable to load image at {img_path}\")\n",
        "else:\n",
        "    img = cv2.resize(img, (600, 600))  # Resize to 600x600\n",
        "\n",
        "    # Convert BGR (OpenCV) to RGB (for Keras)\n",
        "    img_rgb = cv2.cvtColor(img, cv2.COLOR_BGR2RGB)\n",
        "\n",
        "    # Expand dimensions to match the model input and preprocess for EfficientNet\n",
        "    x = np.expand_dims(img_rgb, axis=0)\n",
        "    x = preprocess_input(x)\n",
        "    # Make predictions\n",
        "    preds = model.predict(x)\n",
        "    decoded_preds=decode_predictions(preds, top=3)[0]\n",
        "    #preds=model.predict(x)\n",
        "    print(\"predicted class: \", decoded_preds)\n",
        "    label = decoded_preds[0][1]\n",
        "    confidence= decoded_preds[0][2]\n",
        "    # Display label and confidence score\n",
        "    print(f\"Top prediction: {label} with confidence {confidence:.2f}\")\n",
        "\n",
        "    # Optionally, display label on the image (requires matplotlib text annotation)\n",
        "    plt.imshow(img_rgb)\n",
        "    plt.title(f\"{label} ({confidence:.2f})\")  # Set title to label and confidence score\n",
        "    plt.axis('off')  # Hide axis\n",
        "    plt.show()"
      ]
    }
  ],
  "metadata": {
    "colab": {
      "provenance": []
    },
    "kernelspec": {
      "display_name": "Python 3",
      "name": "python3"
    },
    "language_info": {
      "name": "python"
    }
  },
  "nbformat": 4,
  "nbformat_minor": 0
}